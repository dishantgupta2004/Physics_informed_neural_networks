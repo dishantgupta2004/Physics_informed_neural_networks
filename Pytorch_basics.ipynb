{
 "cells": [
  {
   "cell_type": "code",
   "execution_count": 1,
   "metadata": {},
   "outputs": [],
   "source": [
    "import torch\n",
    "import torchvision"
   ]
  },
  {
   "cell_type": "code",
   "execution_count": 2,
   "metadata": {},
   "outputs": [
    {
     "name": "stdout",
     "output_type": "stream",
     "text": [
      "tensor([-5.8239e-11]) <class 'torch.Tensor'> torch.Size([1])\n",
      "tensor([[-5.9118e-11,  1.1519e-42,  0.0000e+00],\n",
      "        [ 0.0000e+00,  0.0000e+00,  0.0000e+00],\n",
      "        [ 0.0000e+00,  0.0000e+00,  0.0000e+00]]) torch.Size([3, 3]) 2\n"
     ]
    }
   ],
   "source": [
    "x = torch.empty(1)\n",
    "print(x, type(x), x.shape)\n",
    "\n",
    "x = torch.empty((3,3))\n",
    "print(x, x.shape, x.ndim)\n",
    "\n",
    "#y = torch.empty(3,3)\n",
    "#print(y)"
   ]
  },
  {
   "cell_type": "code",
   "execution_count": 3,
   "metadata": {},
   "outputs": [
    {
     "name": "stdout",
     "output_type": "stream",
     "text": [
      "tensor([[0.8258, 0.7900, 0.3931],\n",
      "        [0.4598, 0.8223, 0.5266],\n",
      "        [0.0187, 0.8388, 0.3663]]) torch.Size([3, 3]) <class 'torch.Tensor'>\n"
     ]
    }
   ],
   "source": [
    "r = torch.rand(3,3)\n",
    "\n",
    "print(r, r.shape, type(r))"
   ]
  },
  {
   "cell_type": "code",
   "execution_count": 4,
   "metadata": {},
   "outputs": [
    {
     "name": "stdout",
     "output_type": "stream",
     "text": [
      "tensor([[0., 0., 0.],\n",
      "        [0., 0., 0.],\n",
      "        [0., 0., 0.]]) tensor([[1., 1., 1.],\n",
      "        [1., 1., 1.],\n",
      "        [1., 1., 1.]])\n"
     ]
    }
   ],
   "source": [
    "r0 = torch.zeros(3,3)\n",
    "r1 = torch.ones(3,3)\n",
    "\n",
    "print(r0, r1)"
   ]
  },
  {
   "cell_type": "code",
   "execution_count": 5,
   "metadata": {},
   "outputs": [
    {
     "name": "stdout",
     "output_type": "stream",
     "text": [
      "tensor([2.5000, 0.1000])\n"
     ]
    }
   ],
   "source": [
    "A = [2.5, 0.1]\n",
    "x = torch.tensor(A)\n",
    "print(x)"
   ]
  },
  {
   "cell_type": "code",
   "execution_count": 6,
   "metadata": {},
   "outputs": [
    {
     "name": "stdout",
     "output_type": "stream",
     "text": [
      "Tensor x:  tensor([[0.8000, 0.8245],\n",
      "        [0.9820, 0.8873]])\n",
      "Tensor y:  tensor([[0.0816, 0.4816],\n",
      "        [0.6468, 0.6606]])\n",
      "Tensor x*y:  tensor([[0.0653, 0.3971],\n",
      "        [0.6351, 0.5862]])\n",
      "Tensor x + y:  tensor([[0.8816, 1.3062],\n",
      "        [1.6288, 1.5480]])\n",
      "Tensor x/y:  tensor([[9.8033, 1.7119],\n",
      "        [1.5183, 1.3432]])\n",
      "Tensor x - y:  tensor([[0.7184, 0.3429],\n",
      "        [0.3352, 0.2267]])\n"
     ]
    }
   ],
   "source": [
    "x = torch.rand(2,2)\n",
    "y = torch.rand(2,2)\n",
    "print(\"Tensor x: \",x)\n",
    "print(\"Tensor y: \",y)\n",
    "print(\"Tensor x*y: \", x*y)\n",
    "print(\"Tensor x + y: \", x+y)\n",
    "print(\"Tensor x/y: \", x/y)\n",
    "print(\"Tensor x - y: \", x-y)\n"
   ]
  },
  {
   "cell_type": "code",
   "execution_count": 7,
   "metadata": {},
   "outputs": [
    {
     "name": "stdout",
     "output_type": "stream",
     "text": [
      "Tensor x*y:  tensor([[0.0653, 0.3971],\n",
      "        [0.6351, 0.5862]])\n",
      "Tensor x + y:  tensor([[0.8816, 1.3062],\n",
      "        [1.6288, 1.5480]])\n",
      "Tensor x - y:  tensor([[0.7184, 0.3429],\n",
      "        [0.3352, 0.2267]])\n"
     ]
    }
   ],
   "source": [
    "print(\"Tensor x*y: \", torch.mul(x, y))\n",
    "print(\"Tensor x + y: \", torch.add(x, y))\n",
    "print(\"Tensor x - y: \", torch.sub(x, y))"
   ]
  },
  {
   "cell_type": "code",
   "execution_count": 8,
   "metadata": {},
   "outputs": [
    {
     "name": "stdout",
     "output_type": "stream",
     "text": [
      "tensor([[0.5221, 0.5300, 0.0853, 0.3741],\n",
      "        [0.5290, 0.6573, 0.1830, 0.4634],\n",
      "        [0.5050, 0.5244, 0.4195, 0.0489],\n",
      "        [0.3838, 0.9150, 0.1943, 0.5426]])\n",
      "tensor([0.5221, 0.5300, 0.0853, 0.3741, 0.5290, 0.6573, 0.1830, 0.4634, 0.5050,\n",
      "        0.5244, 0.4195, 0.0489, 0.3838, 0.9150, 0.1943, 0.5426])\n",
      "tensor([[0.5221, 0.5300, 0.0853, 0.3741, 0.5290, 0.6573, 0.1830, 0.4634],\n",
      "        [0.5050, 0.5244, 0.4195, 0.0489, 0.3838, 0.9150, 0.1943, 0.5426]])\n",
      "tensor([[0.5221, 0.5300, 0.0853, 0.3741, 0.5290, 0.6573, 0.1830, 0.4634],\n",
      "        [0.5050, 0.5244, 0.4195, 0.0489, 0.3838, 0.9150, 0.1943, 0.5426]])\n"
     ]
    }
   ],
   "source": [
    "x = torch.rand(4,4)\n",
    "print(x)\n",
    "\n",
    "y = x.view(16)\n",
    "print(y)\n",
    "\n",
    "y1 = x.view(2,8)\n",
    "print(y1)\n",
    "\n",
    "y2  = x.view(-1,8)\n",
    "print(y2)"
   ]
  },
  {
   "cell_type": "markdown",
   "metadata": {},
   "source": [
    "### Tensor to Numpy Array"
   ]
  },
  {
   "cell_type": "code",
   "execution_count": 9,
   "metadata": {},
   "outputs": [
    {
     "name": "stdout",
     "output_type": "stream",
     "text": [
      "tensor([1., 1., 1., 1., 1.])\n",
      "[0.5 0.4 2. ]\n",
      "tensor([0.5000, 0.4000, 2.0000], dtype=torch.float64)\n",
      "[1. 1. 1. 1. 1.]\n",
      "<class 'numpy.ndarray'>\n",
      "<class 'torch.Tensor'>\n"
     ]
    }
   ],
   "source": [
    "import numpy as np\n",
    "\n",
    "a = torch.ones((5))\n",
    "print(a)\n",
    "\n",
    "a_np = np.array([0.5,0.4,2])\n",
    "print(a_np)\n",
    "\n",
    "b_tensor = torch.tensor(a_np)\n",
    "print(b_tensor)\n",
    "\n",
    "b = a.numpy()\n",
    "print(b)\n",
    "\n",
    "print(type(b))\n",
    "print(type(a))"
   ]
  },
  {
   "cell_type": "code",
   "execution_count": 10,
   "metadata": {},
   "outputs": [
    {
     "name": "stdout",
     "output_type": "stream",
     "text": [
      "tensor([1., 1., 1., 1., 1.], device='cuda:0')\n"
     ]
    }
   ],
   "source": [
    "if torch.cuda.is_available():\n",
    "    device = torch.device(\"cuda\")\n",
    "    x =  torch.ones(5, device= device)\n",
    "    print(x)\n",
    "    #z = x.numpy()\n",
    "    #print(z)\n",
    "    \n",
    "else:\n",
    "    print(\"None\")"
   ]
  },
  {
   "cell_type": "code",
   "execution_count": 11,
   "metadata": {},
   "outputs": [
    {
     "name": "stdout",
     "output_type": "stream",
     "text": [
      "tensor([1., 1., 1., 1., 1.], device='cuda:0')\n",
      "[1. 1. 1. 1. 1.]\n"
     ]
    }
   ],
   "source": [
    "\n",
    "if torch.cuda.is_available():\n",
    "    device = torch.device(\"cuda\")\n",
    "    x =  torch.ones(5, device= device)\n",
    "    print(x)\n",
    "    x = x.to(\"cpu\")\n",
    "    z = x.numpy()\n",
    "    print(z)"
   ]
  },
  {
   "cell_type": "code",
   "execution_count": 12,
   "metadata": {},
   "outputs": [],
   "source": [
    "### Means numpy arrays are operated on cpu while torch tensors on gpu as well.\n"
   ]
  },
  {
   "cell_type": "markdown",
   "metadata": {},
   "source": [
    "### BackPropagation Theory"
   ]
  },
  {
   "cell_type": "code",
   "execution_count": 18,
   "metadata": {},
   "outputs": [
    {
     "name": "stdout",
     "output_type": "stream",
     "text": [
      "tensor(1.)\n",
      "tensor(2.)\n",
      "tensor(1., requires_grad=True)\n",
      "1.0\n",
      "tensor(-2.)\n",
      "-2.0\n",
      "tensor(1., requires_grad=True)\n"
     ]
    }
   ],
   "source": [
    "x= torch.tensor(1.0)\n",
    "y= torch.tensor(2.0)\n",
    "\n",
    "w= torch.tensor(1.0, requires_grad= True)\n",
    "\n",
    "print(x)\n",
    "print(y)\n",
    "print(w)\n",
    "\n",
    "y_hat = w*x\n",
    "s = y_hat-y\n",
    "loss= (s)**2\n",
    "\n",
    "print(loss.item())\n",
    "\n",
    "loss.backward()\n",
    "\n",
    "print(w.grad)\n",
    "print(w.grad.item())\n",
    "\n",
    "print(w)"
   ]
  },
  {
   "cell_type": "code",
   "execution_count": 19,
   "metadata": {},
   "outputs": [
    {
     "name": "stdout",
     "output_type": "stream",
     "text": [
      "tensor(4.)\n"
     ]
    }
   ],
   "source": [
    "x = torch.tensor(2.0, requires_grad=True)\n",
    "y = x ** 2\n",
    "y.backward()  # Computes the gradient of y with respect to x\n",
    "print(x.grad)  # Output: 4.0 (since dy/dx = 2 * x)\n"
   ]
  },
  {
   "cell_type": "markdown",
   "metadata": {},
   "source": [
    "### Building Neural Metwork with torch.nnm"
   ]
  },
  {
   "cell_type": "code",
   "execution_count": 24,
   "metadata": {},
   "outputs": [],
   "source": [
    "import torch.nn as nn\n",
    "\n",
    "class SimpleNN(nn.Module):\n",
    "    def __init__(self):\n",
    "        super(SimpleNN, self).__init__()\n",
    "        self.fc1 = nn.Linear(10, 50)\n",
    "        self.fc2 = nn.Linear(50, 1)\n",
    "        \n",
    "    def forward(self, x):\n",
    "        x = torch.relu(self.fc1(x))\n",
    "        x = self.fc2(x)\n",
    "        return x\n",
    "    \n",
    "model = SimpleNN()\n",
    "\n",
    "criterion = nn.MSELoss()\n",
    "\n",
    "optimizer = torch.optim.SGD(model.parameters(), lr= 0.01)\n",
    "\n",
    "for epoch in range(100):\n",
    "    inputs = torch.randn(10)\n",
    "    target = torch.tensor([1.0])\n",
    "    \n",
    "    output = model(inputs)\n",
    "    loss = criterion(output, target)\n",
    "    \n",
    "    optimizer.zero_grad()\n",
    "    loss.backward()\n",
    "    optimizer.step()\n",
    "    \n",
    "    \n",
    "from torch.utils.data import DataLoader, TensorDataset\n",
    "\n",
    "# Creating a simple dataset\n",
    "x_data = torch.randn(100, 10)  # 100 samples, 10 features\n",
    "y_data = torch.randn(100, 1)   # 100 targets\n",
    "\n",
    "dataset = TensorDataset(x_data, y_data)\n",
    "data_loader = DataLoader(dataset, batch_size=32, shuffle=True)\n"
   ]
  },
  {
   "cell_type": "code",
   "execution_count": null,
   "metadata": {},
   "outputs": [],
   "source": []
  }
 ],
 "metadata": {
  "kernelspec": {
   "display_name": "Python 3",
   "language": "python",
   "name": "python3"
  },
  "language_info": {
   "codemirror_mode": {
    "name": "ipython",
    "version": 3
   },
   "file_extension": ".py",
   "mimetype": "text/x-python",
   "name": "python",
   "nbconvert_exporter": "python",
   "pygments_lexer": "ipython3",
   "version": "3.11.10"
  }
 },
 "nbformat": 4,
 "nbformat_minor": 2
}
