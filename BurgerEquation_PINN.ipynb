{
 "cells": [
  {
   "cell_type": "code",
   "execution_count": 1,
   "metadata": {},
   "outputs": [],
   "source": [
    "import scipy.io\n",
    "from scipy.interpolate import griddata\n",
    "import numpy as np\n",
    "import torch\n",
    "import torch.nn as nn\n",
    "import matplotlib.pyplot as plt\n",
    "\n",
    "import warnings\n",
    "warnings.filterwarnings('ignore')"
   ]
  },
  {
   "cell_type": "code",
   "execution_count": 2,
   "metadata": {},
   "outputs": [],
   "source": [
    "data = scipy.io.loadmat('data/burgers_shock.mat')\n",
    "x = data['x'].flatten()[:, None]\n",
    "t = data['t'].flatten()[:, None]\n",
    "usol = np.real(data['usol']).T\n",
    "X, T = np.meshgrid(x, t)\n",
    "train= torch.concat([torch.Tensor(X.flatten()[:, None]), torch.Tensor(T.flatten()[:, None])], 1)\n",
    "X_min = train.min(0)\n",
    "X_max = train.max(0)"
   ]
  },
  {
   "cell_type": "code",
   "execution_count": 3,
   "metadata": {},
   "outputs": [
    {
     "name": "stdout",
     "output_type": "stream",
     "text": [
      "dict_keys(['__header__', '__version__', '__globals__', 'x', 't', 'usol'])\n"
     ]
    }
   ],
   "source": [
    "print(data.keys())\n"
   ]
  },
  {
   "cell_type": "code",
   "execution_count": 4,
   "metadata": {},
   "outputs": [],
   "source": [
    "class Network(nn.Module):\n",
    "    def __init__(self):\n",
    "        super(Network, self).__init__()\n",
    "        self.fc1 = nn.Linear(2, 16)\n",
    "        self.fc2 = nn.Linear(16, 32)\n",
    "        self.fc3 = nn.Linear(32, 1)\n",
    "        \n",
    "    def forward(self, x):\n",
    "        x = nn.functional.relu(self.fc1(x))\n",
    "        x = nn.functional.relu(self.fc2(x))\n",
    "        x = self.fc3(x)\n",
    "        return x\n",
    "    "
   ]
  },
  {
   "cell_type": "code",
   "execution_count": 5,
   "metadata": {},
   "outputs": [],
   "source": [
    "class PINN():\n",
    "    def __init__(self, X, u, lb, ub, physics):\n",
    "        \n",
    "        self.lb = torch.tensor(lb).float()\n",
    "        self.ub = torch.tensor(ub).float()\n",
    "        self.physics = physics\n",
    "        \n",
    "        self.x = torch.tensor(X[:, 0:1], requires_grad=True).float()\n",
    "        self.t = torch.tensor(X[:, 1:2], requires_grad=True).float()\n",
    "        self.u = torch.tensor(u).float()\n",
    "        \n",
    "        self.network = Network()\n",
    "        \n",
    "        self.optimizer = torch.optim.Adam(self.network.parameters(), lr=0.001)\n",
    "        \n",
    "    def makeNetwork(self, x,t):\n",
    "        X = torch.cat([x,t],1)\n",
    "        return self.network(X)\n",
    "    \n",
    "    def residual(self, x, t):\n",
    "        \n",
    "        u = self.makeNetwork(x, t)\n",
    "        u_t = torch.autograd.grad(u, t, grad_outputs=torch.ones_like(u),  create_graph=True)[0]\n",
    "        u_x = torch.autograd.grad(u, x, grad_outputs=torch.ones_like(u) , create_graph=True)[0]\n",
    "        u_xx = torch.autograd.grad(u_x, x, grad_outputs = torch.ones_like(u_x) ,create_graph=True)[0]\n",
    "        \n",
    "        return u_t + u*u_x - (0.01/np.pi)*u_xx\n",
    "    \n",
    "    def train(self, epochs):\n",
    "        lossTracker = []\n",
    "        self.network.train()\n",
    "        for idx in range(epochs):\n",
    "            u_pred = self.makeNetwork(self.x, self.t)\n",
    "            residual_pred = self.residual(self.x, self.t)\n",
    "            loss = torch.mean((self.u - u_pred)**2)\n",
    "            if self.physics == True:\n",
    "                loss += torch.mean(residual_pred**2)\n",
    "            #print(f\"The loss at epoch {idx} is {loss.item()}\")\n",
    "            lossTracker.append(loss.item())\n",
    "            self.optimizer.zero_grad()\n",
    "            loss.backward()\n",
    "            self.optimizer.step()\n",
    "        return lossTracker\n",
    "    \n",
    "    def predict(self): \n",
    "        self.network.eval()\n",
    "        u = self.makeNetwork(self.x, self.t)\n",
    "        res = self.residual(self.x, self.t)\n",
    "        return u.detach().numpy(), res.detach().numpy()\n",
    "    "
   ]
  },
  {
   "cell_type": "code",
   "execution_count": 6,
   "metadata": {},
   "outputs": [],
   "source": [
    "idx = np.random.choice(train.shape[0], 2000, replace=False)\n",
    "X_u_train = train[idx, :]\n",
    "u_train = usol.flatten()[:, None][idx,:]\n",
    "model = PINN(X_u_train, u_train, X_min[0], X_max[0], True) # Keep False for Vanilla\n",
    "pinn = model.train(1000)"
   ]
  },
  {
   "cell_type": "code",
   "execution_count": null,
   "metadata": {},
   "outputs": [],
   "source": []
  }
 ],
 "metadata": {
  "kernelspec": {
   "display_name": "base",
   "language": "python",
   "name": "python3"
  },
  "language_info": {
   "codemirror_mode": {
    "name": "ipython",
    "version": 3
   },
   "file_extension": ".py",
   "mimetype": "text/x-python",
   "name": "python",
   "nbconvert_exporter": "python",
   "pygments_lexer": "ipython3",
   "version": "3.12.7"
  }
 },
 "nbformat": 4,
 "nbformat_minor": 2
}
